{
 "cells": [
  {
   "cell_type": "code",
   "execution_count": 1,
   "metadata": {},
   "outputs": [],
   "source": [
    "import ast\n",
    "import pandas as pd"
   ]
  },
  {
   "cell_type": "code",
   "execution_count": 2,
   "metadata": {},
   "outputs": [],
   "source": [
    "df = pd.read_csv('result/result_comics 24 Aug.csv')"
   ]
  },
  {
   "cell_type": "code",
   "execution_count": 3,
   "metadata": {},
   "outputs": [],
   "source": [
    "df = df.drop(columns=['Unnamed: 0'])"
   ]
  },
  {
   "cell_type": "code",
   "execution_count": 4,
   "metadata": {},
   "outputs": [
    {
     "name": "stdout",
     "output_type": "stream",
     "text": [
      "<class 'pandas.core.frame.DataFrame'>\n",
      "RangeIndex: 57007 entries, 0 to 57006\n",
      "Data columns (total 10 columns):\n",
      " #   Column        Non-Null Count  Dtype  \n",
      "---  ------        --------------  -----  \n",
      " 0   id            57007 non-null  int64  \n",
      " 1   title         57007 non-null  object \n",
      " 2   issueNumber   57007 non-null  float64\n",
      " 3   modified      57007 non-null  object \n",
      " 4   format        56968 non-null  object \n",
      " 5   pageCount     57007 non-null  int64  \n",
      " 6   onsaleDate    57007 non-null  object \n",
      " 7   printPrice    57007 non-null  float64\n",
      " 8   digitalPrice  19214 non-null  float64\n",
      " 9   series        57007 non-null  object \n",
      "dtypes: float64(3), int64(2), object(5)\n",
      "memory usage: 4.3+ MB\n"
     ]
    }
   ],
   "source": [
    "df.info()"
   ]
  },
  {
   "cell_type": "code",
   "execution_count": 5,
   "metadata": {},
   "outputs": [],
   "source": [
    "df['series'] = df['series'].apply(ast.literal_eval)"
   ]
  },
  {
   "cell_type": "code",
   "execution_count": 6,
   "metadata": {},
   "outputs": [],
   "source": [
    "def get_series_name(row):\n",
    "    return row['name']\n",
    "\n",
    "# Apply the function to the specified column\n",
    "df['series'] = df['series'].apply(get_series_name)"
   ]
  },
  {
   "cell_type": "code",
   "execution_count": 7,
   "metadata": {},
   "outputs": [],
   "source": [
    "df['format'] = df['format'].str.title()"
   ]
  },
  {
   "cell_type": "code",
   "execution_count": 8,
   "metadata": {},
   "outputs": [
    {
     "name": "stdout",
     "output_type": "stream",
     "text": [
      "['Comic' 'Trade Paperback' 'Hardcover' 'Digital Comic' 'Magazine' nan\n",
      " 'Digest' 'Newspaper' 'Poster' 'Sketchbook' 'Catalog' 'Graphic Novel'\n",
      " 'Hardcover Book' 'Infinite Comic' 'Digital Vertical Comic'\n",
      " 'Digital Collection']\n"
     ]
    }
   ],
   "source": [
    "print(df['format'].unique())"
   ]
  },
  {
   "cell_type": "code",
   "execution_count": 9,
   "metadata": {},
   "outputs": [],
   "source": [
    "df.to_csv('result_29Aug.csv')"
   ]
  },
  {
   "cell_type": "code",
   "execution_count": null,
   "metadata": {},
   "outputs": [],
   "source": []
  }
 ],
 "metadata": {
  "kernelspec": {
   "display_name": "Python 3",
   "language": "python",
   "name": "python3"
  },
  "language_info": {
   "codemirror_mode": {
    "name": "ipython",
    "version": 3
   },
   "file_extension": ".py",
   "mimetype": "text/x-python",
   "name": "python",
   "nbconvert_exporter": "python",
   "pygments_lexer": "ipython3",
   "version": "3.9.7"
  },
  "orig_nbformat": 4
 },
 "nbformat": 4,
 "nbformat_minor": 2
}
